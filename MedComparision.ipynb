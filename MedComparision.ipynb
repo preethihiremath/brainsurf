{
 "cells": [
  {
   "cell_type": "code",
   "execution_count": 1,
   "metadata": {},
   "outputs": [],
   "source": [
    "import brainsurf.data.mff as input_load"
   ]
  },
  {
   "cell_type": "code",
   "execution_count": 2,
   "metadata": {},
   "outputs": [
    {
     "name": "stdout",
     "output_type": "stream",
     "text": [
      "Reading EGI MFF Header from C:\\Users\\Preethi V Hiremath\\Downloads\\Meditators\\Suriya\\BS.mff...\n",
      "    Reading events ...\n",
      "    Assembling measurement info ...\n",
      "Reading EGI MFF Header from C:\\Users\\Preethi V Hiremath\\Downloads\\Meditators\\Suriya\\M1.mff...\n",
      "    Reading events ...\n",
      "    Assembling measurement info ...\n",
      "Reading EGI MFF Header from C:\\Users\\Preethi V Hiremath\\Downloads\\Meditators\\Suriya\\T1.mff...\n",
      "    Reading events ...\n",
      "    Assembling measurement info ...\n",
      "Reading EGI MFF Header from C:\\Users\\Preethi V Hiremath\\Downloads\\Meditators\\Suriya\\P1.mff...\n",
      "    Reading events ...\n",
      "    Assembling measurement info ...\n"
     ]
    }
   ],
   "source": [
    "suriya_baseline = input_load.convert_mff_to_eegdata(\"C:/Users/Preethi V Hiremath/Downloads/Meditators/Suriya/BS.mff\")\n",
    "suriya_meditation = input_load.convert_mff_to_eegdata(\"C:/Users/Preethi V Hiremath/Downloads/Meditators/Suriya/M1.mff\")\n",
    "suriya_transmission = input_load.convert_mff_to_eegdata(\"C:/Users/Preethi V Hiremath/Downloads/Meditators/Suriya/T1.mff\")\n",
    "suriya_post = input_load.convert_mff_to_eegdata(\"C:/Users/Preethi V Hiremath/Downloads/Meditators/Suriya/P1.mff\")\n"
   ]
  },
  {
   "cell_type": "code",
   "execution_count": 3,
   "metadata": {},
   "outputs": [
    {
     "data": {
      "text/html": [
       "<div>\n",
       "<style scoped>\n",
       "    .dataframe tbody tr th:only-of-type {\n",
       "        vertical-align: middle;\n",
       "    }\n",
       "\n",
       "    .dataframe tbody tr th {\n",
       "        vertical-align: top;\n",
       "    }\n",
       "\n",
       "    .dataframe thead th {\n",
       "        text-align: right;\n",
       "    }\n",
       "</style>\n",
       "<table border=\"1\" class=\"dataframe\">\n",
       "  <thead>\n",
       "    <tr style=\"text-align: right;\">\n",
       "      <th></th>\n",
       "      <th>E1</th>\n",
       "      <th>E2</th>\n",
       "      <th>E3</th>\n",
       "      <th>E4</th>\n",
       "      <th>E5</th>\n",
       "      <th>E6</th>\n",
       "      <th>E7</th>\n",
       "      <th>E8</th>\n",
       "      <th>E9</th>\n",
       "      <th>E10</th>\n",
       "      <th>...</th>\n",
       "      <th>E121</th>\n",
       "      <th>E122</th>\n",
       "      <th>E123</th>\n",
       "      <th>E124</th>\n",
       "      <th>E125</th>\n",
       "      <th>E126</th>\n",
       "      <th>E127</th>\n",
       "      <th>E128</th>\n",
       "      <th>Vertex Reference</th>\n",
       "      <th>sec</th>\n",
       "    </tr>\n",
       "  </thead>\n",
       "  <tbody>\n",
       "    <tr>\n",
       "      <th>0</th>\n",
       "      <td>-0.012650</td>\n",
       "      <td>-0.006606</td>\n",
       "      <td>0.002758</td>\n",
       "      <td>0.002042</td>\n",
       "      <td>0.000380</td>\n",
       "      <td>0.001469</td>\n",
       "      <td>0.004418</td>\n",
       "      <td>-0.017802</td>\n",
       "      <td>-0.013326</td>\n",
       "      <td>0.008499</td>\n",
       "      <td>...</td>\n",
       "      <td>-0.013461</td>\n",
       "      <td>-0.009211</td>\n",
       "      <td>-0.003504</td>\n",
       "      <td>0.002472</td>\n",
       "      <td>-0.020046</td>\n",
       "      <td>-0.016379</td>\n",
       "      <td>-0.015446</td>\n",
       "      <td>-0.017229</td>\n",
       "      <td>0.0</td>\n",
       "      <td>0.000</td>\n",
       "    </tr>\n",
       "    <tr>\n",
       "      <th>1</th>\n",
       "      <td>-0.012611</td>\n",
       "      <td>-0.006578</td>\n",
       "      <td>0.002774</td>\n",
       "      <td>0.002052</td>\n",
       "      <td>0.000384</td>\n",
       "      <td>0.001460</td>\n",
       "      <td>0.004402</td>\n",
       "      <td>-0.017772</td>\n",
       "      <td>-0.013299</td>\n",
       "      <td>0.008510</td>\n",
       "      <td>...</td>\n",
       "      <td>-0.013424</td>\n",
       "      <td>-0.009178</td>\n",
       "      <td>-0.003483</td>\n",
       "      <td>0.002486</td>\n",
       "      <td>-0.020009</td>\n",
       "      <td>-0.016357</td>\n",
       "      <td>-0.015425</td>\n",
       "      <td>-0.017193</td>\n",
       "      <td>0.0</td>\n",
       "      <td>0.004</td>\n",
       "    </tr>\n",
       "    <tr>\n",
       "      <th>2</th>\n",
       "      <td>-0.012550</td>\n",
       "      <td>-0.006531</td>\n",
       "      <td>0.002812</td>\n",
       "      <td>0.002086</td>\n",
       "      <td>0.000413</td>\n",
       "      <td>0.001455</td>\n",
       "      <td>0.004396</td>\n",
       "      <td>-0.017716</td>\n",
       "      <td>-0.013255</td>\n",
       "      <td>0.008542</td>\n",
       "      <td>...</td>\n",
       "      <td>-0.013362</td>\n",
       "      <td>-0.009119</td>\n",
       "      <td>-0.003441</td>\n",
       "      <td>0.002525</td>\n",
       "      <td>-0.019946</td>\n",
       "      <td>-0.016304</td>\n",
       "      <td>-0.015388</td>\n",
       "      <td>-0.017120</td>\n",
       "      <td>0.0</td>\n",
       "      <td>0.008</td>\n",
       "    </tr>\n",
       "    <tr>\n",
       "      <th>3</th>\n",
       "      <td>-0.012563</td>\n",
       "      <td>-0.006539</td>\n",
       "      <td>0.002816</td>\n",
       "      <td>0.002097</td>\n",
       "      <td>0.000427</td>\n",
       "      <td>0.001462</td>\n",
       "      <td>0.004409</td>\n",
       "      <td>-0.017721</td>\n",
       "      <td>-0.013259</td>\n",
       "      <td>0.008552</td>\n",
       "      <td>...</td>\n",
       "      <td>-0.013376</td>\n",
       "      <td>-0.009128</td>\n",
       "      <td>-0.003443</td>\n",
       "      <td>0.002531</td>\n",
       "      <td>-0.019949</td>\n",
       "      <td>-0.016318</td>\n",
       "      <td>-0.015384</td>\n",
       "      <td>-0.017133</td>\n",
       "      <td>0.0</td>\n",
       "      <td>0.012</td>\n",
       "    </tr>\n",
       "    <tr>\n",
       "      <th>4</th>\n",
       "      <td>-0.012594</td>\n",
       "      <td>-0.006560</td>\n",
       "      <td>0.002799</td>\n",
       "      <td>0.002082</td>\n",
       "      <td>0.000416</td>\n",
       "      <td>0.001462</td>\n",
       "      <td>0.004414</td>\n",
       "      <td>-0.017746</td>\n",
       "      <td>-0.013280</td>\n",
       "      <td>0.008537</td>\n",
       "      <td>...</td>\n",
       "      <td>-0.013406</td>\n",
       "      <td>-0.009157</td>\n",
       "      <td>-0.003462</td>\n",
       "      <td>0.002513</td>\n",
       "      <td>-0.019976</td>\n",
       "      <td>-0.016339</td>\n",
       "      <td>-0.015397</td>\n",
       "      <td>-0.017180</td>\n",
       "      <td>0.0</td>\n",
       "      <td>0.016</td>\n",
       "    </tr>\n",
       "  </tbody>\n",
       "</table>\n",
       "<p>5 rows × 130 columns</p>\n",
       "</div>"
      ],
      "text/plain": [
       "         E1        E2        E3        E4        E5        E6        E7   \n",
       "0 -0.012650 -0.006606  0.002758  0.002042  0.000380  0.001469  0.004418  \\\n",
       "1 -0.012611 -0.006578  0.002774  0.002052  0.000384  0.001460  0.004402   \n",
       "2 -0.012550 -0.006531  0.002812  0.002086  0.000413  0.001455  0.004396   \n",
       "3 -0.012563 -0.006539  0.002816  0.002097  0.000427  0.001462  0.004409   \n",
       "4 -0.012594 -0.006560  0.002799  0.002082  0.000416  0.001462  0.004414   \n",
       "\n",
       "         E8        E9       E10  ...      E121      E122      E123      E124   \n",
       "0 -0.017802 -0.013326  0.008499  ... -0.013461 -0.009211 -0.003504  0.002472  \\\n",
       "1 -0.017772 -0.013299  0.008510  ... -0.013424 -0.009178 -0.003483  0.002486   \n",
       "2 -0.017716 -0.013255  0.008542  ... -0.013362 -0.009119 -0.003441  0.002525   \n",
       "3 -0.017721 -0.013259  0.008552  ... -0.013376 -0.009128 -0.003443  0.002531   \n",
       "4 -0.017746 -0.013280  0.008537  ... -0.013406 -0.009157 -0.003462  0.002513   \n",
       "\n",
       "       E125      E126      E127      E128  Vertex Reference    sec  \n",
       "0 -0.020046 -0.016379 -0.015446 -0.017229               0.0  0.000  \n",
       "1 -0.020009 -0.016357 -0.015425 -0.017193               0.0  0.004  \n",
       "2 -0.019946 -0.016304 -0.015388 -0.017120               0.0  0.008  \n",
       "3 -0.019949 -0.016318 -0.015384 -0.017133               0.0  0.012  \n",
       "4 -0.019976 -0.016339 -0.015397 -0.017180               0.0  0.016  \n",
       "\n",
       "[5 rows x 130 columns]"
      ]
     },
     "execution_count": 3,
     "metadata": {},
     "output_type": "execute_result"
    }
   ],
   "source": [
    "suriya_baseline.head()"
   ]
  },
  {
   "attachments": {},
   "cell_type": "markdown",
   "metadata": {},
   "source": [
    "# Sampling Frequency Cailculation\n"
   ]
  },
  {
   "cell_type": "code",
   "execution_count": 4,
   "metadata": {},
   "outputs": [
    {
     "name": "stdout",
     "output_type": "stream",
     "text": [
      "250.0\n"
     ]
    }
   ],
   "source": [
    "import numpy as np\n",
    "import brainsurf.utils.data as util\n",
    "values = np.asarray(suriya_baseline['sec'], dtype=object)\n",
    "sampling_freq = util.estimate_sampling_frequency(values)\n",
    "print(sampling_freq)"
   ]
  },
  {
   "attachments": {},
   "cell_type": "markdown",
   "metadata": {},
   "source": [
    "# Statistial Comparision"
   ]
  },
  {
   "cell_type": "code",
   "execution_count": 5,
   "metadata": {},
   "outputs": [],
   "source": [
    "import pandas as pd\n",
    "from scipy import stats"
   ]
  },
  {
   "cell_type": "code",
   "execution_count": 6,
   "metadata": {},
   "outputs": [],
   "source": [
    "def compare_eeg_data(df1, df2, df3, df4):\n",
    "    # Select only the EEG channels (E1 to E128) and exclude unnecessary columns\n",
    "    eeg_columns = df1.columns[:-2]\n",
    "    df1 = df1[eeg_columns]\n",
    "    df2 = df2[eeg_columns]\n",
    "    df3 = df3[eeg_columns]\n",
    "    df4 = df4[eeg_columns]\n",
    "\n",
    "  # Calculate mean, variance, and standard deviation for each channel\n",
    "    mean_values = pd.DataFrame({'Mean': [df1.mean(), df2.mean(), df3.mean(), df4.mean()]}).transpose().round(6)\n",
    "    variance_values = pd.DataFrame({'Variance': [df1.var(), df2.var(), df3.var(), df4.var()]}).transpose().round(6)\n",
    "    std_values = pd.DataFrame({'Standard Deviation': [df1.std(), df2.std(), df3.std(), df4.std()]}).transpose().round(6)\n",
    "\n",
    "    # Combine the results into a single DataFrame\n",
    "     # Perform t-test between df1 and df4 for each feature\n",
    "    t_statistic, p_value = stats.ttest_ind(df1, df4)\n",
    "    t_test_results = pd.DataFrame({'T-Stat': t_statistic, 'P-Value (T-Test)': p_value}).transpose().round(6)\n",
    "\n",
    "    # Perform ANOVA between df1 and df4 for each feature\n",
    "    f_statistic, p_value_anova = stats.f_oneway(df1, df4)\n",
    "    anova_results = pd.DataFrame({'F-Stat': f_statistic, 'P-Value (ANOVA)': p_value_anova}).transpose().round(6)\n",
    "\n",
    "    # Calculate effect sizes (Cohen's d) between df1 and df4 for each feature\n",
    "    effect_size = (df1.mean() - df4.mean()) / df1.std()\n",
    "    effect_size_results = pd.DataFrame({'Effect Size': effect_size}).transpose().round(6)\n",
    "\n",
    "    # Combine the results into a single DataFrame\n",
    "    # result_df = pd.concat([mean_values, std_values, variance_values, t_test_results, anova_results, effect_size_results], axis=0)\n",
    "    # result_df = pd.concat([t_test_results,anova_results, effect_size_results])\n",
    "    result_df = pd.concat([mean_values, std_values, t_test_results], axis=0)\n",
    "    # result_df.columns = range(len(result_df.columns))  # Set column names as integers\n",
    "\n",
    "    return result_df\n"
   ]
  },
  {
   "cell_type": "code",
   "execution_count": 12,
   "metadata": {},
   "outputs": [
    {
     "name": "stdout",
     "output_type": "stream",
     "text": [
      "Mean                  E1     -0.012968\n",
      "E2     -0.006689\n",
      "E3      0.00...\n",
      "Standard Deviation    E1      0.000154\n",
      "E2      0.000165\n",
      "E3      0.00...\n",
      "T-Stat                                                      6367.840703\n",
      "P-Value (T-Test)                                                    0.0\n",
      "Name: 0, dtype: object\n"
     ]
    }
   ],
   "source": [
    "comparison_result = compare_eeg_data(suriya_baseline,suriya_meditation, suriya_transmission, suriya_post)\n",
    "print(comparison_result[0])"
   ]
  },
  {
   "attachments": {},
   "cell_type": "markdown",
   "metadata": {},
   "source": [
    "### Inference\n",
    "please write down what the inference is"
   ]
  },
  {
   "cell_type": "code",
   "execution_count": 93,
   "metadata": {},
   "outputs": [],
   "source": [
    "import pandas as pd\n",
    "\n",
    "def compare_eeg_datax(df1, df2):\n",
    "    # Select only the EEG channels (E1 to E128) and exclude unnecessary columns\n",
    "    eeg_columns = df1.columns[:-2]  # Assuming the first two columns are time and vertices\n",
    "    df1 = df1[eeg_columns]\n",
    "    df2 = df2[eeg_columns]\n",
    "\n",
    "    # Create an empty DataFrame to store the statistics\n",
    "    result_df = pd.DataFrame(index=eeg_columns)\n",
    "\n",
    "    # Calculate mean and variance for each channel\n",
    "    result_df['Mean_df1'] = df1.mean()\n",
    "    result_df['Mean_df2'] = df2.mean()\n",
    "    result_df['Variance_df1'] = df1.var()\n",
    "    result_df['Variance_df2'] = df2.var()\n",
    "\n",
    "    return result_df\n"
   ]
  },
  {
   "cell_type": "code",
   "execution_count": 90,
   "metadata": {},
   "outputs": [],
   "source": [
    "import matplotlib.pyplot as plt\n"
   ]
  },
  {
   "cell_type": "code",
   "execution_count": 79,
   "metadata": {},
   "outputs": [],
   "source": [
    "# import matplotlib.pyplot as plt\n",
    "\n",
    "# def visualize_comparison(result_df, plot_type='line'):\n",
    "#     # Transpose the DataFrame\n",
    "#     result_df = result_df.transpose()\n",
    "\n",
    "#     # Extract the features from the index\n",
    "#     features = result_df.columns[:-2]  # Exclude the last two columns\n",
    "    \n",
    "#     # Visualize mean values using a line plot or a bar plot\n",
    "#     if plot_type == 'line':\n",
    "#         plt.figure(figsize=(10, 6))\n",
    "#         for feature in features:\n",
    "#             plt.plot(result_df[feature][:-2], label=feature)\n",
    "#         plt.xlabel('Channels')\n",
    "#         plt.ylabel('Mean')\n",
    "#         plt.title('Mean Values Comparison')\n",
    "#         plt.xticks(rotation=90)\n",
    "#         plt.legend()\n",
    "#     elif plot_type == 'bar':\n",
    "#         plt.figure(figsize=(10, 6))\n",
    "#         plt.bar(features, result_df['Mean'][:-2], label='Mean')  # Exclude the last two columns\n",
    "#         plt.xlabel('Channels')\n",
    "#         plt.ylabel('Mean')\n",
    "#         plt.title('Mean Values Comparison')\n",
    "#         plt.xticks(rotation=90)\n",
    "#         plt.legend()\n",
    "#     else:\n",
    "#         print(\"Invalid plot type. Please choose either 'line' or 'bar'.\")\n",
    "\n",
    "#     plt.show()\n"
   ]
  },
  {
   "cell_type": "code",
   "execution_count": 100,
   "metadata": {},
   "outputs": [],
   "source": [
    "import matplotlib.pyplot as plt\n",
    "\n",
    "def visualize_comparison(comparison_result):\n",
    "    # Extract the channels as the x-axis labels\n",
    "    channels = comparison_result.index\n",
    "\n",
    "    # Get the mean and variance values for df1 and df2\n",
    "    mean_df1 = comparison_result['Mean_df1']\n",
    "    mean_df2 = comparison_result['Mean_df2']\n",
    "    variance_df1 = comparison_result['Variance_df1']\n",
    "    variance_df2 = comparison_result['Variance_df2']\n",
    "\n",
    "    # Plotting mean values\n",
    "    plt.figure(figsize=(12, 6))\n",
    "    plt.subplot(1, 2, 1)\n",
    "    plt.bar(channels, mean_df1, label='df1', alpha=0.75)\n",
    "    plt.bar(channels, mean_df2, label='df2', alpha=0.75)\n",
    "    plt.title('Mean Comparison')\n",
    "    plt.xlabel('Channels')\n",
    "    plt.ylabel('Mean')\n",
    "    plt.xticks(rotation=90)\n",
    "    plt.legend()\n",
    "\n",
    "    # Plotting variance values\n",
    "    plt.subplot(1, 2, 2)\n",
    "    plt.bar(channels, variance_df1, label='df1', alpha=0.75)\n",
    "    plt.bar(channels, variance_df2, label='df2', alpha=0.75)\n",
    "    plt.title('Variance Comparison')\n",
    "    plt.xlabel('Channels')\n",
    "    plt.ylabel('Variance')\n",
    "    plt.xticks(rotation=90)\n",
    "    plt.legend()\n",
    "\n",
    "    plt.tight_layout()\n",
    "    plt.show()\n"
   ]
  },
  {
   "cell_type": "code",
   "execution_count": 101,
   "metadata": {},
   "outputs": [
    {
     "name": "stdout",
     "output_type": "stream",
     "text": [
      "      Mean_df1  Mean_df2  Variance_df1  Variance_df2\n",
      "E1   -0.012968 -0.017287  2.358705e-08  1.091223e-08\n",
      "E2   -0.006689 -0.009872  2.707744e-08  6.840597e-08\n",
      "E3    0.003093  0.004706  3.786793e-08  3.246320e-08\n",
      "E4    0.002382  0.004456  3.308424e-08  1.161044e-07\n",
      "E5    0.000636  0.005120  1.465239e-08  1.259507e-07\n",
      "...        ...       ...           ...           ...\n",
      "E124  0.002495  0.004534  3.722335e-09  3.950959e-08\n",
      "E125 -0.020106 -0.019916  1.418954e-08  1.084897e-08\n",
      "E126 -0.014123 -0.021036  5.778985e-07  5.140430e-08\n",
      "E127 -0.012485 -0.015337  7.120301e-06  1.601243e-07\n",
      "E128 -0.018376 -0.019528  1.912857e-07  1.842016e-08\n",
      "\n",
      "[128 rows x 4 columns]\n"
     ]
    }
   ],
   "source": [
    "# Call the function to compare the EEG data\n",
    "comparison_result = compare_eeg_datax(suriya_baseline, suriya_post)\n",
    "print(comparison_result)\n",
    "\n",
    "\n"
   ]
  },
  {
   "cell_type": "code",
   "execution_count": 102,
   "metadata": {},
   "outputs": [
    {
     "data": {
      "image/png": "[encoded data removed]",
      "text/plain": [
       "<Figure size 1200x600 with 2 Axes>"
      ]
     },
     "metadata": {},
     "output_type": "display_data"
    }
   ],
   "source": [
    "# Call the function to visualize the comparison results\n",
    "visualize_comparison(comparison_result)"
   ]
  }
 ],
 "metadata": {
  "kernelspec": {
   "display_name": "Python 3",
   "language": "python",
   "name": "python3"
  },
  "language_info": {
   "codemirror_mode": {
    "name": "ipython",
    "version": 3
   },
   "file_extension": ".py",
   "mimetype": "text/x-python",
   "name": "python",
   "nbconvert_exporter": "python",
   "pygments_lexer": "ipython3",
   "version": "3.10.5"
  },
  "orig_nbformat": 4
 },
 "nbformat": 4,
 "nbformat_minor": 2
}
