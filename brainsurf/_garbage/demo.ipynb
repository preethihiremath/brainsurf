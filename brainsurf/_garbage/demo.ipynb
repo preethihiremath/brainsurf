{
 "cells": [
  {
   "cell_type": "code",
   "execution_count": null,
   "metadata": {},
   "outputs": [],
   "source": [
    "# load the dataset\n",
    "eeg_data = edf_eeg_data.iloc[:, :-1]  # select all columns except the last (ECG)\n",
    "n_samples, n_channels = eeg_data.shape\n",
    "n_times = 1  # the time dimension is already collapsed in this dataset\n",
    "eeg_data = np.expand_dims(eeg_data, axis=2)  # add the time dimension back\n",
    "\n",
    "# create the RNN module\n",
    "rnn_module = RNNModule.RNNModel(input_shape=n_channels, output_shape=n_times,num_units=100,num_layers=3)\n",
    "\n",
    "# train the RNN module\n",
    "rnn_module.train(eeg_data)\n",
    "\n",
    "# make predictions using the trained RNN module\n",
    "predictions = rnn_module.predict(eeg_data)\n"
   ]
  },
  {
   "cell_type": "code",
   "execution_count": null,
   "metadata": {},
   "outputs": [],
   "source": [
    "from keras.models import Sequential\n",
    "from keras.layers import Dense, LSTM\n",
    "\n",
    "# Define the model architecture\n",
    "model = Sequential()\n",
    "model.add(LSTM(64, input_shape=(n_timesteps, n_features)))\n",
    "model.add(Dense(1, activation='sigmoid'))\n",
    "\n",
    "# Compile the model\n",
    "model.compile(loss='binary_crossentropy', optimizer='adam', metrics=['accuracy'])\n",
    "\n",
    "# Train the model\n",
    "model.fit(X_train, y_train, epochs=50, batch_size=32, validation_data=(X_val, y_val))\n",
    "\n",
    "# Evaluate the model on the test set\n",
    "loss, accuracy = model.evaluate(X_test, y_test)\n",
    "print('Test loss:', loss)\n",
    "print('Test accuracy:', accuracy)\n"
   ]
  },
  {
   "cell_type": "code",
   "execution_count": null,
   "metadata": {},
   "outputs": [],
   "source": [
    "\n",
    "from brainsurf.analysis.erp_analysis import epoch_data, average_epochs, plot_erp, extract_p300\n",
    "\n",
    "epochs = epoch_data(data_edf, epoch_length=0.5, event_column='Time', event_id=[1, 2, 3], fs=256)\n",
    "avg_epoch = average_epochs(epochs)\n",
    "plot_erp(avg_epoch, fs=256)\n",
    "p300, time_axis = extract_p300(avg_epoch, fs=256)\n",
    "\n",
    "# Plot the P300 component\n",
    "plot_eeg.plot_eeg_signal(time_axis, p300, ' Bandpass Filtered EEG Signal','Time (s)','P300')"
   ]
  }
 ],
 "metadata": {
  "language_info": {
   "name": "python"
  },
  "orig_nbformat": 4
 },
 "nbformat": 4,
 "nbformat_minor": 2
}
