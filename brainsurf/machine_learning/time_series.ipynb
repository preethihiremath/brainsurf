{
 "cells": [
  {
   "cell_type": "code",
   "execution_count": null,
   "metadata": {},
   "outputs": [],
   "source": [
    "# def calculate_levels(model, X_point):\n",
    "#     \"\"\"\n",
    "#     Predict the alpha, beta, delta, and theta levels for a single data point using the trained model.\n",
    "#     \"\"\"\n",
    "#     levels = model.predict(X_point.reshape(1, -1))\n",
    "#     return levels\n",
    "# levels = calculate_levels(model, X_point)\n",
    "# print(\"Alpha level: {:.2f}\".format(levels[0, 0]))\n",
    "# print(\"Beta level: {:.2f}\".format(levels[0, 1]))\n",
    "# print(\"Delta level: {:.2f}\".format(levels[0, 2]))\n",
    "# print(\"Theta level: {:.2f}\".format(levels[0, 3]))"
   ]
  }
 ],
 "metadata": {
  "language_info": {
   "name": "python"
  },
  "orig_nbformat": 4
 },
 "nbformat": 4,
 "nbformat_minor": 2
}
