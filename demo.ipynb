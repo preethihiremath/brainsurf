{
 "cells": [
  {
   "attachments": {},
   "cell_type": "markdown",
   "metadata": {},
   "source": [
    "# IMPORTING MODULES"
   ]
  },
  {
   "attachments": {},
   "cell_type": "markdown",
   "metadata": {},
   "source": [
    "# Load the data"
   ]
  },
  {
   "cell_type": "code",
   "execution_count": 1,
   "metadata": {},
   "outputs": [
    {
     "name": "stdout",
     "output_type": "stream",
     "text": [
      "       sec        raw\n",
      "0    0.000 -16.534400\n",
      "1    0.005 -23.730500\n",
      "2    0.010 -24.639900\n",
      "3    0.015 -22.241200\n",
      "4    0.020 -19.952400\n",
      "..     ...        ...\n",
      "295  1.475  -0.976563\n",
      "296  1.480  -4.052730\n",
      "297  1.485  -3.845210\n",
      "298  1.490  -1.745610\n",
      "299  1.495   3.674320\n",
      "\n",
      "[300 rows x 2 columns]\n",
      "Index(['sec', 'raw'], dtype='object')\n"
     ]
    }
   ],
   "source": [
    "import brainsurf.data.csv as csv_import\n",
    "file_path = 'brainsurf/data/samples/adarsh/adarsh_pre.csv'\n",
    "eeg_data = csv_import.convert_csv_to_eegdata(file_path)\n",
    "data_summary = eeg_data.summary(300)\n",
    "keys = eeg_data.keys()\n",
    "print(keys)"
   ]
  },
  {
   "cell_type": "code",
   "execution_count": 2,
   "metadata": {},
   "outputs": [
    {
     "name": "stdout",
     "output_type": "stream",
     "text": [
      "100424\n"
     ]
    }
   ],
   "source": [
    "length = len(eeg_data)\n",
    "print(length)"
   ]
  },
  {
   "cell_type": "code",
   "execution_count": 3,
   "metadata": {},
   "outputs": [
    {
     "name": "stdout",
     "output_type": "stream",
     "text": [
      "Index(['sec', 'raw'], dtype='object')\n"
     ]
    }
   ],
   "source": [
    "column_names = eeg_data.keys()\n",
    "print(column_names)"
   ]
  },
  {
   "cell_type": "code",
   "execution_count": 4,
   "metadata": {},
   "outputs": [
    {
     "name": "stdout",
     "output_type": "stream",
     "text": [
      "     sec      raw\n",
      "0  0.000 -16.5344\n",
      "1  0.005 -23.7305\n",
      "2  0.010 -24.6399\n",
      "3  0.015 -22.2412\n",
      "4  0.020 -19.9524\n",
      "5  0.025 -18.4143\n",
      "6  0.030 -20.9778\n",
      "7  0.035 -20.2393\n",
      "8  0.040 -21.4050\n",
      "9  0.045 -21.0022\n"
     ]
    }
   ],
   "source": [
    "summary = eeg_data.summary(10)"
   ]
  },
  {
   "cell_type": "code",
   "execution_count": 5,
   "metadata": {},
   "outputs": [],
   "source": [
    "eeg_data.extract_frequency_bands()"
   ]
  },
  {
   "cell_type": "code",
   "execution_count": 6,
   "metadata": {},
   "outputs": [
    {
     "name": "stdout",
     "output_type": "stream",
     "text": [
      "     sec      raw     alpha      beta       delta     theta     gamma\n",
      "0  0.000 -16.5344  0.739153  0.340532   49.747628  4.116308  0.040695\n",
      "1  0.005 -23.7305  1.676459  0.749908   42.575573  3.634073  0.038842\n",
      "2  0.010 -24.6399  3.382342  2.419534  135.210048  3.892357  0.125695\n",
      "3  0.015 -22.2412  1.434365  1.619343   84.618161  3.953389  0.087822\n",
      "4  0.020 -19.9524  4.340995  6.558143   78.591010  5.409474  0.729613\n",
      "5  0.025 -18.4143  0.908967  0.688162   34.664515  1.957621  0.036741\n",
      "6  0.030 -20.9778  1.791933  1.296061   83.958023  3.180223  0.098377\n",
      "7  0.035 -20.2393  1.976249  1.150905   34.516828  2.102519  0.058791\n",
      "8  0.040 -21.4050  0.469199  0.218817   29.096778  1.206942  0.010982\n",
      "9  0.045 -21.0022  0.614998  0.385991   70.191149  3.794692  0.018610\n"
     ]
    }
   ],
   "source": [
    "summary = eeg_data.summary(10)"
   ]
  },
  {
   "attachments": {},
   "cell_type": "markdown",
   "metadata": {},
   "source": [
    "## EDF TO EEG"
   ]
  },
  {
   "cell_type": "code",
   "execution_count": 7,
   "metadata": {},
   "outputs": [
    {
     "name": "stdout",
     "output_type": "stream",
     "text": [
      "  channel_names                                           raw_data\n",
      "0       EEG Fp1  [-6.347912214236662, -5.884709218585484, -5.16...\n",
      "1       EEG Fp2  [-6.719954005188079, -6.252686981002529, -5.50...\n",
      "2        EEG F3  [-5.6178915175097295, -5.75924680704967, -5.68...\n",
      "3        EEG F4  [-4.054461545433731, -4.4169801989776385, -4.7...\n",
      "4        EEG F7  [-5.759875172350652, -5.196062582894636, -4.36...\n"
     ]
    }
   ],
   "source": [
    "import brainsurf.data.edf as edf_import\n",
    "edf_eeg_data = edf_import.convert_edf_to_eegdata('brainsurf/data/samples/sample_data.edf')\n",
    "edf_eeg_data.summary(5)"
   ]
  },
  {
   "attachments": {},
   "cell_type": "markdown",
   "metadata": {},
   "source": [
    "## EXCEL TO EEG "
   ]
  },
  {
   "cell_type": "code",
   "execution_count": 8,
   "metadata": {},
   "outputs": [
    {
     "name": "stdout",
     "output_type": "stream",
     "text": [
      "     sec      raw\n",
      "0  2.440 -9.51538\n",
      "1  2.445 -8.83179\n",
      "2  2.450 -7.40356\n",
      "3  2.455 -7.04956\n",
      "4  2.460 -7.83081\n"
     ]
    }
   ],
   "source": [
    "import brainsurf.data.xlsx as xlsx_import\n",
    "edf_eeg_data = xlsx_import.convert_xlsx_to_eegdata('brainsurf/data/samples/sample_data.xlsx')\n",
    "edf_eeg_data.summary(5)"
   ]
  },
  {
   "cell_type": "code",
   "execution_count": 9,
   "metadata": {},
   "outputs": [],
   "source": [
    "lowcut = 0.5 # Hz\n",
    "highcut = 50 # Hz\n",
    "order = 4\n",
    "freqs = [0, 50] # Hz\n",
    "q = 30"
   ]
  },
  {
   "attachments": {},
   "cell_type": "markdown",
   "metadata": {},
   "source": [
    "# Preprocessing"
   ]
  },
  {
   "attachments": {},
   "cell_type": "markdown",
   "metadata": {},
   "source": [
    "## Filtering"
   ]
  },
  {
   "attachments": {},
   "cell_type": "markdown",
   "metadata": {},
   "source": [
    "### Bandpass Filter"
   ]
  },
  {
   "cell_type": "code",
   "execution_count": 10,
   "metadata": {},
   "outputs": [
    {
     "name": "stdout",
     "output_type": "stream",
     "text": [
      "0           0.000\n",
      "1           0.005\n",
      "2           0.010\n",
      "3           0.015\n",
      "4           0.020\n",
      "           ...   \n",
      "100419    194.305\n",
      "100420    194.310\n",
      "100421    194.315\n",
      "100422    194.320\n",
      "100423    194.325\n",
      "Name: sec, Length: 100424, dtype: float64\n"
     ]
    }
   ],
   "source": [
    "values = eeg_data['sec']\n",
    "print(values)"
   ]
  },
  {
   "cell_type": "code",
   "execution_count": 11,
   "metadata": {},
   "outputs": [
    {
     "name": "stdout",
     "output_type": "stream",
     "text": [
      "200.00000000008976\n"
     ]
    }
   ],
   "source": [
    "import numpy as np\n",
    "import brainsurf.utils.data as util\n",
    "values = np.asarray(eeg_data['sec'], dtype=object)\n",
    "sampling_freq = util.estimate_sampling_frequency(values)\n",
    "print(sampling_freq)"
   ]
  },
  {
   "cell_type": "code",
   "execution_count": 12,
   "metadata": {},
   "outputs": [
    {
     "name": "stdout",
     "output_type": "stream",
     "text": [
      "[ -1.50562524  -8.14741752 -18.92222429 ...          nan          nan\n",
      "          nan]\n"
     ]
    },
    {
     "data": {
      "image/png": "[encoded data removed]",
      "text/plain": [
       "<Figure size 640x480 with 1 Axes>"
      ]
     },
     "metadata": {},
     "output_type": "display_data"
    }
   ],
   "source": [
    "import brainsurf.visualization.plot_eeg_signal as plt\n",
    "import brainsurf.preprocessing.filtering as filter\n",
    "\n",
    "bandpass_filtered_eeg = filter.butter_bandpass_filter(eeg_data['raw'], lowcut, highcut, sampling_freq, order) \n",
    "print(bandpass_filtered_eeg)\n",
    "plt.plot_eeg_signal(eeg_data['sec'], bandpass_filtered_eeg, 'Bandpass Filtered EEG Signal','Time(sec)','Amplitude(micro Volts)')"
   ]
  },
  {
   "attachments": {},
   "cell_type": "markdown",
   "metadata": {},
   "source": [
    "# Feature Extraction"
   ]
  },
  {
   "cell_type": "code",
   "execution_count": 13,
   "metadata": {},
   "outputs": [],
   "source": [
    "import brainsurf.analysis.stats_analysis as stats"
   ]
  },
  {
   "attachments": {},
   "cell_type": "markdown",
   "metadata": {},
   "source": [
    "## Time-Domain Features"
   ]
  },
  {
   "attachments": {},
   "cell_type": "markdown",
   "metadata": {},
   "source": [
    "### Mean"
   ]
  },
  {
   "cell_type": "code",
   "execution_count": 14,
   "metadata": {},
   "outputs": [
    {
     "name": "stdout",
     "output_type": "stream",
     "text": [
      "-0.005010748303499806\n"
     ]
    }
   ],
   "source": [
    "csv_mean=stats.calculate_mean(bandpass_filtered_eeg)\n",
    "print(csv_mean)"
   ]
  },
  {
   "attachments": {},
   "cell_type": "markdown",
   "metadata": {},
   "source": [
    "### Varience"
   ]
  },
  {
   "cell_type": "code",
   "execution_count": 15,
   "metadata": {},
   "outputs": [
    {
     "name": "stdout",
     "output_type": "stream",
     "text": [
      "192.4765576638541\n"
     ]
    }
   ],
   "source": [
    "csv_varience=stats.calculate_variance(bandpass_filtered_eeg)\n",
    "print(csv_varience)"
   ]
  },
  {
   "attachments": {},
   "cell_type": "markdown",
   "metadata": {},
   "source": [
    "### Skewness "
   ]
  },
  {
   "cell_type": "code",
   "execution_count": 16,
   "metadata": {},
   "outputs": [
    {
     "name": "stdout",
     "output_type": "stream",
     "text": [
      "-0.3441613904213072\n"
     ]
    }
   ],
   "source": [
    "csv_skewness= stats.calculate_skewness(bandpass_filtered_eeg)\n",
    "print(csv_skewness)"
   ]
  },
  {
   "attachments": {},
   "cell_type": "markdown",
   "metadata": {},
   "source": [
    "### Kurtosis "
   ]
  },
  {
   "cell_type": "code",
   "execution_count": 17,
   "metadata": {},
   "outputs": [
    {
     "name": "stdout",
     "output_type": "stream",
     "text": [
      "8.00111593847491\n"
     ]
    }
   ],
   "source": [
    "csv_kurtosis =stats.calculate_kurtosis(bandpass_filtered_eeg)\n",
    "print(csv_kurtosis)"
   ]
  },
  {
   "attachments": {},
   "cell_type": "markdown",
   "metadata": {},
   "source": [
    "## Frequency-Domain Features"
   ]
  },
  {
   "attachments": {},
   "cell_type": "markdown",
   "metadata": {},
   "source": [
    "## Power spectral density"
   ]
  },
  {
   "cell_type": "code",
   "execution_count": 19,
   "metadata": {},
   "outputs": [
    {
     "name": "stdout",
     "output_type": "stream",
     "text": [
      "[  0.  20.  40.  60.  80. 100.]\n",
      "[ -1.50562524  -8.14741752 -18.92222429 ...          nan          nan\n",
      "          nan]\n"
     ]
    }
   ],
   "source": [
    "import brainsurf.visualization as vis\n",
    "import brainsurf.analysis.power_spectrum as psd\n",
    "\n",
    "freqs, psd = psd.psd_welch(bandpass_filtered_eeg, sampling_freq)\n",
    "print(bandpass_filtered_eeg)"
   ]
  },
  {
   "attachments": {},
   "cell_type": "markdown",
   "metadata": {},
   "source": []
  }
 ],
 "metadata": {
  "kernelspec": {
   "display_name": "Python 3",
   "language": "python",
   "name": "python3"
  },
  "language_info": {
   "codemirror_mode": {
    "name": "ipython",
    "version": 3
   },
   "file_extension": ".py",
   "mimetype": "text/x-python",
   "name": "python",
   "nbconvert_exporter": "python",
   "pygments_lexer": "ipython3",
   "version": "3.10.5"
  },
  "orig_nbformat": 4
 },
 "nbformat": 4,
 "nbformat_minor": 2
}
