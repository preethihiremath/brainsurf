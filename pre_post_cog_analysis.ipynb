{
 "cells": [
  {
   "cell_type": "code",
   "execution_count": 1,
   "metadata": {},
   "outputs": [
    {
     "name": "stdout",
     "output_type": "stream",
     "text": [
      "       sec        raw\n",
      "0    0.000 -16.534400\n",
      "1    0.005 -23.730500\n",
      "2    0.010 -24.639900\n",
      "3    0.015 -22.241200\n",
      "4    0.020 -19.952400\n",
      "..     ...        ...\n",
      "295  1.475  -0.976563\n",
      "296  1.480  -4.052730\n",
      "297  1.485  -3.845210\n",
      "298  1.490  -1.745610\n",
      "299  1.495   3.674320\n",
      "\n",
      "[300 rows x 2 columns]\n"
     ]
    }
   ],
   "source": [
    "import brainsurf.data.csv as csv_import\n",
    "file_path = 'brainsurf/data/samples/adarsh/adarsh_pre_med.csv'\n",
    "adarsh_pre_med = csv_import.convert_csv_to_eegdata(file_path)\n",
    "data_summary = adarsh_pre_med.summary(300)"
   ]
  },
  {
   "cell_type": "code",
   "execution_count": 2,
   "metadata": {},
   "outputs": [],
   "source": [
    "adarsh_pre_cog = csv_import.convert_csv_to_eegdata('brainsurf/data/samples/adarsh/adarsh_pre_cog.csv')\n",
    "adarsh_med = csv_import.convert_csv_to_eegdata('brainsurf/data/samples/adarsh/adarsh_med.csv')\n",
    "adarsh_post_med = csv_import.convert_csv_to_eegdata('brainsurf/data/samples/adarsh/adarsh_post_cog.csv')\n",
    "adarsh_post_cog = csv_import.convert_csv_to_eegdata('brainsurf/data/samples/adarsh/adarsh_post_cog.csv')"
   ]
  },
  {
   "cell_type": "code",
   "execution_count": 3,
   "metadata": {},
   "outputs": [],
   "source": [
    "adarsh_pre_med.extract_frequency_bands()\n",
    "adarsh_pre_cog.extract_frequency_bands()\n",
    "adarsh_med.extract_frequency_bands()\n",
    "adarsh_post_med.extract_frequency_bands()\n",
    "adarsh_post_cog.extract_frequency_bands()"
   ]
  },
  {
   "cell_type": "code",
   "execution_count": 4,
   "metadata": {},
   "outputs": [
    {
     "name": "stdout",
     "output_type": "stream",
     "text": [
      "     sec      raw     alpha      beta       delta     theta     gamma\n",
      "0  0.000 -16.5344  0.739153  0.340532   49.747628  4.116308  0.040695\n",
      "1  0.005 -23.7305  1.676459  0.749908   42.575573  3.634073  0.038842\n",
      "2  0.010 -24.6399  3.382342  2.419534  135.210048  3.892357  0.125695\n",
      "3  0.015 -22.2412  1.434365  1.619343   84.618161  3.953389  0.087822\n",
      "4  0.020 -19.9524  4.340995  6.558143   78.591010  5.409474  0.729613\n",
      "5  0.025 -18.4143  0.908967  0.688162   34.664515  1.957621  0.036741\n",
      "6  0.030 -20.9778  1.791933  1.296061   83.958023  3.180223  0.098377\n",
      "7  0.035 -20.2393  1.976249  1.150905   34.516828  2.102519  0.058791\n",
      "8  0.040 -21.4050  0.469199  0.218817   29.096778  1.206942  0.010982\n",
      "9  0.045 -21.0022  0.614998  0.385991   70.191149  3.794692  0.018610\n"
     ]
    }
   ],
   "source": [
    "summary = adarsh_pre_med.summary(10)"
   ]
  },
  {
   "cell_type": "code",
   "execution_count": 5,
   "metadata": {},
   "outputs": [
    {
     "name": "stdout",
     "output_type": "stream",
     "text": [
      "200.00000000000003\n"
     ]
    }
   ],
   "source": [
    "import numpy as np\n",
    "import brainsurf.utils.data as util\n",
    "values = np.asarray(adarsh_pre_cog['sec'], dtype=object)\n",
    "sampling_freq = util.estimate_sampling_frequency(values)\n",
    "print(sampling_freq)"
   ]
  },
  {
   "cell_type": "code",
   "execution_count": 6,
   "metadata": {},
   "outputs": [],
   "source": [
    "lowcut = 0.5 # Hz\n",
    "highcut = 50 # Hz\n",
    "order = 4\n",
    "freqs = [0, 50] # Hz\n",
    "q = 30"
   ]
  },
  {
   "cell_type": "code",
   "execution_count": 7,
   "metadata": {},
   "outputs": [],
   "source": [
    "import brainsurf.visualization.plot_eeg_signal as plt\n",
    "import brainsurf.preprocessing.filtering as filter\n",
    "\n",
    "bandpass_filtered_pre_med_eeg = filter.butter_bandpass_filter(adarsh_pre_med['raw'], lowcut, highcut, sampling_freq, order) \n",
    "bandpass_filtered_pre_cog_eeg = filter.butter_bandpass_filter(adarsh_pre_cog['raw'], lowcut, highcut, sampling_freq, order) \n",
    "bandpass_filtered_med_eeg = filter.butter_bandpass_filter(adarsh_med['raw'], lowcut, highcut, sampling_freq, order) \n",
    "bandpass_filtered_post_med_eeg = filter.butter_bandpass_filter(adarsh_post_med['raw'], lowcut, highcut, sampling_freq, order) \n",
    "bandpass_filtered_post_cog_eeg = filter.butter_bandpass_filter(adarsh_post_med['raw'], lowcut, highcut, sampling_freq, order) \n"
   ]
  },
  {
   "cell_type": "code",
   "execution_count": 8,
   "metadata": {},
   "outputs": [
    {
     "name": "stdout",
     "output_type": "stream",
     "text": [
      "[  0.93205546   4.40512426   7.97716605 ... -11.2511049   -7.36394374\n",
      "  -1.08834323]\n"
     ]
    }
   ],
   "source": [
    "print(bandpass_filtered_med_eeg)"
   ]
  },
  {
   "attachments": {},
   "cell_type": "markdown",
   "metadata": {},
   "source": [
    "# Comparitive Analysis"
   ]
  },
  {
   "cell_type": "code",
   "execution_count": 9,
   "metadata": {},
   "outputs": [],
   "source": [
    "# import brainsurf.comparitive_analysis.t_test as cog_test\n",
    "\n",
    "# t_values, p_values = cog_test.calculate_t_test(bandpass_filtered_pre_med_eeg, bandpass_filtered_post_med_eeg)\n",
    "# f_values, p_values = cog_test.calculate_anova(bandpass_filtered_pre_med_eeg, bandpass_filtered_med_eeg, bandpass_filtered_post_med_eeg)\n",
    "# cohens_d = cog_test.calculate_cohens_d(bandpass_filtered_pre_med_eeg, bandpass_filtered_post_med_eeg)\n",
    "\n",
    "# print(t_values, p_values )\n"
   ]
  },
  {
   "attachments": {},
   "cell_type": "markdown",
   "metadata": {},
   "source": [
    "# Cognitive Analysis"
   ]
  },
  {
   "cell_type": "code",
   "execution_count": 10,
   "metadata": {},
   "outputs": [
    {
     "name": "stdout",
     "output_type": "stream",
     "text": [
      "      sec       raw     alpha      beta      delta     theta     gamma\n",
      "0  74.000 -5.224610  0.402189  0.190739  18.862726  1.974057  0.007472\n",
      "1  74.005 -4.351810  0.275272  0.158867   5.444490  1.028094  0.005800\n",
      "2  74.010 -2.026370  0.354565  0.159501   6.025449  1.288724  0.005955\n",
      "3  74.015  0.030518  0.320697  0.134610   5.178307  1.446696  0.007705\n",
      "4  74.020 -1.025390  0.355913  0.190410   6.233101  1.520567  0.008599\n"
     ]
    }
   ],
   "source": [
    "adarsh_pre_cog.dropna()\n",
    "adarsh_post_cog.dropna()\n",
    "adarsh_pre_cog.summary(5)"
   ]
  },
  {
   "cell_type": "code",
   "execution_count": 11,
   "metadata": {},
   "outputs": [
    {
     "name": "stdout",
     "output_type": "stream",
     "text": [
      "21\n"
     ]
    },
    {
     "data": {
      "text/plain": [
       "21"
      ]
     },
     "execution_count": 11,
     "metadata": {},
     "output_type": "execute_result"
    }
   ],
   "source": [
    "min_len = min(len(adarsh_pre_cog), len(adarsh_post_cog))\n",
    "pre_merged_df = adarsh_pre_cog[:min_len]\n",
    "post_merged_df = adarsh_post_cog[:min_len]\n",
    "print(min_len)\n",
    "len(pre_merged_df)"
   ]
  },
  {
   "cell_type": "code",
   "execution_count": 12,
   "metadata": {},
   "outputs": [
    {
     "name": "stdout",
     "output_type": "stream",
     "text": [
      "0     0.474251\n",
      "1     0.577129\n",
      "2     0.449850\n",
      "3     0.419741\n",
      "4     0.534990\n",
      "5     0.531360\n",
      "6     0.707589\n",
      "7     0.289341\n",
      "8     0.549115\n",
      "9     0.478109\n",
      "10    0.327218\n",
      "11    0.576418\n",
      "12    0.603056\n",
      "13    0.613836\n",
      "14    0.880902\n",
      "15    0.477953\n",
      "16    0.519087\n",
      "17    0.679013\n",
      "18    0.584901\n",
      "19    0.894853\n",
      "20    0.328395\n",
      "dtype: float64\n",
      "Test Statistic: [-0.99518372  0.9226197   0.91791643  0.89852547  0.84429538  0.85189756\n",
      "  0.89173221  0.40230339  0.73463684  0.56884675  0.85744207  0.62601931\n",
      "  0.64137646  0.88845388  0.8493513   0.63550799  0.9032983   0.8801228\n",
      "  0.88867023  0.85168052  0.66323724]\n",
      "P-value: [0.39299854 0.42425165 0.42635432 0.43512354 0.46051089 0.45687496\n",
      " 0.43823394 0.71440993 0.51577508 0.60925948 0.45423905 0.57569573\n",
      " 0.56691478 0.4397421  0.45808997 0.5702584  0.43295012 0.44359563\n",
      " 0.43964243 0.45697842 0.55458923]\n"
     ]
    }
   ],
   "source": [
    "import brainsurf.cognitive_analysis_module.cognitive_comparision as cognitiveComp\n",
    "\n",
    "# Assuming you have imported the cognitive_index module containing the functions\n",
    "\n",
    "cog_inx_before, cog_idx_after= cognitiveComp.calculate_cognitive_indexes(pre_merged_df, post_merged_df)\n",
    "\n",
    "test_statistic, p_value = cognitiveComp.compare_cognitive_indexes(cog_inx_before, cog_idx_after)\n",
    "\n",
    "# Print the test statistic and p-value\n",
    "print(\"Test Statistic:\", test_statistic)\n",
    "print(\"P-value:\", p_value)"
   ]
  },
  {
   "attachments": {},
   "cell_type": "markdown",
   "metadata": {},
   "source": [
    "Certainly! Based on the provided test statistic and p-values, we can perform a comparison between the pre-meditation and post-meditation conditions. Let's assume we are testing the hypothesis that meditation has an effect on EEG activity during the Stroop test. We will compare the EEG activity before and after meditation. Here's a step-by-step guide to performing the comparison:\n",
    "\n",
    "Step 1: Define the null and alternative hypotheses:\n",
    "- Null hypothesis (H0): There is no significant difference in EEG activity during the Stroop test before and after meditation.\n",
    "- Alternative hypothesis (HA): There is a significant difference in EEG activity during the Stroop test before and after meditation.\n",
    "\n",
    "Step 2: Choose a significance level (alpha):\n",
    "- Let's assume a significance level of 0.05 (or 5%). This means we are willing to accept a 5% chance of rejecting the null hypothesis incorrectly.\n",
    "\n",
    "Step 3: Perform a statistical test:\n",
    "- One common statistical test for comparing two groups is the independent samples t-test, assuming the data is normally distributed. However, without information on the specific test conducted, we will provide a general comparison.\n",
    "\n",
    "Step 4: Interpret the results:\n",
    "- Looking at the p-values provided, we can compare each p-value to the significance level (alpha) of 0.05.\n",
    "- If any of the p-values are less than 0.05 (p-value < 0.05), we reject the null hypothesis and conclude that there is a significant difference in EEG activity between the pre-meditation and post-meditation conditions.\n",
    "- If all of the p-values are greater than 0.05 (p-value > 0.05), we fail to reject the null hypothesis and conclude that there is no significant difference in EEG activity between the pre-meditation and post-meditation conditions.\n",
    "\n",
    "Please note that the specific interpretation and statistical test may vary depending on the analysis method used and the characteristics of your data."
   ]
  }
 ],
 "metadata": {
  "kernelspec": {
   "display_name": "Python 3",
   "language": "python",
   "name": "python3"
  },
  "language_info": {
   "codemirror_mode": {
    "name": "ipython",
    "version": 3
   },
   "file_extension": ".py",
   "mimetype": "text/x-python",
   "name": "python",
   "nbconvert_exporter": "python",
   "pygments_lexer": "ipython3",
   "version": "3.10.5"
  },
  "orig_nbformat": 4
 },
 "nbformat": 4,
 "nbformat_minor": 2
}
